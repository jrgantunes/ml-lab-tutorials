{
 "cells": [
  {
   "cell_type": "markdown",
   "metadata": {},
   "source": [
    "# Imports"
   ]
  },
  {
   "cell_type": "code",
   "execution_count": 103,
   "metadata": {},
   "outputs": [
    {
     "name": "stderr",
     "output_type": "stream",
     "text": [
      "/Users/gdouzas/.pyenv/versions/3.7.0/lib/python3.7/importlib/_bootstrap.py:219: RuntimeWarning: numpy.ufunc size changed, may indicate binary incompatibility. Expected 216, got 192\n",
      "  return f(*args, **kwds)\n"
     ]
    }
   ],
   "source": [
    "from collections import Counter\n",
    "from sklearn.datasets import load_breast_cancer\n",
    "from sklearn.linear_model import LogisticRegression\n",
    "from imblearn.pipeline import make_pipeline\n",
    "from imblearn.over_sampling import RandomOverSampler, SMOTE\n",
    "from sklearn.model_selection import cross_val_score, GridSearchCV\n",
    "import pandas as pd"
   ]
  },
  {
   "cell_type": "markdown",
   "metadata": {},
   "source": [
    "# Load data"
   ]
  },
  {
   "cell_type": "code",
   "execution_count": 76,
   "metadata": {},
   "outputs": [],
   "source": [
    "ds = load_breast_cancer()\n",
    "X, y = ds.data, ds.target"
   ]
  },
  {
   "cell_type": "markdown",
   "metadata": {},
   "source": [
    "# Metadata"
   ]
  },
  {
   "cell_type": "code",
   "execution_count": 77,
   "metadata": {},
   "outputs": [
    {
     "name": "stdout",
     "output_type": "stream",
     "text": [
      "Number of samples: 569\n"
     ]
    }
   ],
   "source": [
    "n_samples = len(y)\n",
    "print(f'Number of samples: {n_samples}')"
   ]
  },
  {
   "cell_type": "code",
   "execution_count": 78,
   "metadata": {},
   "outputs": [
    {
     "name": "stdout",
     "output_type": "stream",
     "text": [
      "Number of features: 30\n"
     ]
    }
   ],
   "source": [
    "n_features = X.shape[1]\n",
    "print(f'Number of features: {n_features}')"
   ]
  },
  {
   "cell_type": "code",
   "execution_count": 79,
   "metadata": {},
   "outputs": [
    {
     "name": "stdout",
     "output_type": "stream",
     "text": [
      "IR: 1.6839622641509433\n"
     ]
    }
   ],
   "source": [
    "count = Counter(y)\n",
    "print(f'IR: {count[1] / count[0]}')"
   ]
  },
  {
   "cell_type": "code",
   "execution_count": 80,
   "metadata": {},
   "outputs": [
    {
     "name": "stdout",
     "output_type": "stream",
     "text": [
      "R: 18.966666666666665\n"
     ]
    }
   ],
   "source": [
    "print(f'R: {n_samples / n_features}')"
   ]
  },
  {
   "cell_type": "markdown",
   "metadata": {},
   "source": [
    "# Modelling"
   ]
  },
  {
   "cell_type": "markdown",
   "metadata": {},
   "source": [
    "### No oversampling"
   ]
  },
  {
   "cell_type": "code",
   "execution_count": 81,
   "metadata": {},
   "outputs": [],
   "source": [
    "lr = LogisticRegression(solver='lbfgs', max_iter=5000)"
   ]
  },
  {
   "cell_type": "code",
   "execution_count": 82,
   "metadata": {},
   "outputs": [],
   "source": [
    "score = cross_val_score(lr, X, y, scoring='f1', cv=5)"
   ]
  },
  {
   "cell_type": "code",
   "execution_count": 83,
   "metadata": {},
   "outputs": [
    {
     "data": {
      "text/plain": [
       "0.9640490336020795"
      ]
     },
     "execution_count": 83,
     "metadata": {},
     "output_type": "execute_result"
    }
   ],
   "source": [
    "score.mean()"
   ]
  },
  {
   "cell_type": "markdown",
   "metadata": {},
   "source": [
    "### Oversampling"
   ]
  },
  {
   "cell_type": "code",
   "execution_count": 84,
   "metadata": {},
   "outputs": [],
   "source": [
    "smote = SMOTE()\n",
    "lr = LogisticRegression(solver='lbfgs', max_iter=5000)"
   ]
  },
  {
   "cell_type": "code",
   "execution_count": 85,
   "metadata": {},
   "outputs": [],
   "source": [
    "lr_smote = make_pipeline(smote, lr)"
   ]
  },
  {
   "cell_type": "code",
   "execution_count": 86,
   "metadata": {},
   "outputs": [],
   "source": [
    "score_over = cross_val_score(lr_smote, X, y, scoring='f1', cv=5)"
   ]
  },
  {
   "cell_type": "code",
   "execution_count": 87,
   "metadata": {},
   "outputs": [
    {
     "data": {
      "text/plain": [
       "0.959696031260024"
      ]
     },
     "execution_count": 87,
     "metadata": {},
     "output_type": "execute_result"
    }
   ],
   "source": [
    "score_over.mean()"
   ]
  },
  {
   "cell_type": "markdown",
   "metadata": {},
   "source": [
    "### Grid search"
   ]
  },
  {
   "cell_type": "code",
   "execution_count": 99,
   "metadata": {},
   "outputs": [],
   "source": [
    "smote = SMOTE()\n",
    "lr = LogisticRegression(solver='lbfgs', max_iter=5000)"
   ]
  },
  {
   "cell_type": "code",
   "execution_count": 100,
   "metadata": {},
   "outputs": [],
   "source": [
    "lr_smote = make_pipeline(smote, lr)"
   ]
  },
  {
   "cell_type": "code",
   "execution_count": 101,
   "metadata": {},
   "outputs": [],
   "source": [
    "param_grid = {'smote__k_neighbors': [3, 4, 5], 'logisticregression__C': [5e4, 5e3, 5e2, 1]}"
   ]
  },
  {
   "cell_type": "code",
   "execution_count": 102,
   "metadata": {},
   "outputs": [
    {
     "name": "stderr",
     "output_type": "stream",
     "text": [
      "/Users/gdouzas/.pyenv/versions/3.7.0/envs/env/lib/python3.7/site-packages/sklearn/linear_model/logistic.py:758: ConvergenceWarning: lbfgs failed to converge. Increase the number of iterations.\n",
      "  \"of iterations.\", ConvergenceWarning)\n"
     ]
    },
    {
     "data": {
      "text/plain": [
       "GridSearchCV(cv=5, error_score='raise-deprecating',\n",
       "       estimator=Pipeline(memory=None,\n",
       "     steps=[('smote', SMOTE(k_neighbors=5, kind='deprecated', m_neighbors='deprecated', n_jobs=1,\n",
       "   out_step='deprecated', random_state=None, ratio=None,\n",
       "   sampling_strategy='auto', svm_estimator='deprecated')), ('logisticregression', LogisticRegression(C=1.0, class...nalty='l2', random_state=None, solver='lbfgs',\n",
       "          tol=0.0001, verbose=0, warm_start=False))]),\n",
       "       fit_params=None, iid='warn', n_jobs=-1,\n",
       "       param_grid={'smote__k_neighbors': [3, 4, 5], 'logisticregression__C': [50000.0, 5000.0, 500.0, 1]},\n",
       "       pre_dispatch='2*n_jobs', refit=True, return_train_score='warn',\n",
       "       scoring='f1', verbose=0)"
      ]
     },
     "execution_count": 102,
     "metadata": {},
     "output_type": "execute_result"
    }
   ],
   "source": [
    "gscv = GridSearchCV(lr_smote, param_grid, cv=5, n_jobs=-1, scoring='f1')\n",
    "gscv.fit(X, y)"
   ]
  },
  {
   "cell_type": "code",
   "execution_count": 104,
   "metadata": {},
   "outputs": [
    {
     "name": "stderr",
     "output_type": "stream",
     "text": [
      "/Users/gdouzas/.pyenv/versions/3.7.0/envs/env/lib/python3.7/site-packages/sklearn/utils/deprecation.py:125: FutureWarning: You are accessing a training score ('split0_train_score'), which will not be available by default any more in 0.21. If you need training scores, please set return_train_score=True\n",
      "  warnings.warn(*warn_args, **warn_kwargs)\n",
      "/Users/gdouzas/.pyenv/versions/3.7.0/envs/env/lib/python3.7/site-packages/sklearn/utils/deprecation.py:125: FutureWarning: You are accessing a training score ('split1_train_score'), which will not be available by default any more in 0.21. If you need training scores, please set return_train_score=True\n",
      "  warnings.warn(*warn_args, **warn_kwargs)\n",
      "/Users/gdouzas/.pyenv/versions/3.7.0/envs/env/lib/python3.7/site-packages/sklearn/utils/deprecation.py:125: FutureWarning: You are accessing a training score ('split2_train_score'), which will not be available by default any more in 0.21. If you need training scores, please set return_train_score=True\n",
      "  warnings.warn(*warn_args, **warn_kwargs)\n",
      "/Users/gdouzas/.pyenv/versions/3.7.0/envs/env/lib/python3.7/site-packages/sklearn/utils/deprecation.py:125: FutureWarning: You are accessing a training score ('split3_train_score'), which will not be available by default any more in 0.21. If you need training scores, please set return_train_score=True\n",
      "  warnings.warn(*warn_args, **warn_kwargs)\n",
      "/Users/gdouzas/.pyenv/versions/3.7.0/envs/env/lib/python3.7/site-packages/sklearn/utils/deprecation.py:125: FutureWarning: You are accessing a training score ('split4_train_score'), which will not be available by default any more in 0.21. If you need training scores, please set return_train_score=True\n",
      "  warnings.warn(*warn_args, **warn_kwargs)\n",
      "/Users/gdouzas/.pyenv/versions/3.7.0/envs/env/lib/python3.7/site-packages/sklearn/utils/deprecation.py:125: FutureWarning: You are accessing a training score ('mean_train_score'), which will not be available by default any more in 0.21. If you need training scores, please set return_train_score=True\n",
      "  warnings.warn(*warn_args, **warn_kwargs)\n",
      "/Users/gdouzas/.pyenv/versions/3.7.0/envs/env/lib/python3.7/site-packages/sklearn/utils/deprecation.py:125: FutureWarning: You are accessing a training score ('std_train_score'), which will not be available by default any more in 0.21. If you need training scores, please set return_train_score=True\n",
      "  warnings.warn(*warn_args, **warn_kwargs)\n"
     ]
    },
    {
     "data": {
      "text/html": [
       "<div>\n",
       "<style scoped>\n",
       "    .dataframe tbody tr th:only-of-type {\n",
       "        vertical-align: middle;\n",
       "    }\n",
       "\n",
       "    .dataframe tbody tr th {\n",
       "        vertical-align: top;\n",
       "    }\n",
       "\n",
       "    .dataframe thead th {\n",
       "        text-align: right;\n",
       "    }\n",
       "</style>\n",
       "<table border=\"1\" class=\"dataframe\">\n",
       "  <thead>\n",
       "    <tr style=\"text-align: right;\">\n",
       "      <th></th>\n",
       "      <th>mean_fit_time</th>\n",
       "      <th>std_fit_time</th>\n",
       "      <th>mean_score_time</th>\n",
       "      <th>std_score_time</th>\n",
       "      <th>param_logisticregression__C</th>\n",
       "      <th>param_smote__k_neighbors</th>\n",
       "      <th>params</th>\n",
       "      <th>split0_test_score</th>\n",
       "      <th>split1_test_score</th>\n",
       "      <th>split2_test_score</th>\n",
       "      <th>...</th>\n",
       "      <th>mean_test_score</th>\n",
       "      <th>std_test_score</th>\n",
       "      <th>rank_test_score</th>\n",
       "      <th>split0_train_score</th>\n",
       "      <th>split1_train_score</th>\n",
       "      <th>split2_train_score</th>\n",
       "      <th>split3_train_score</th>\n",
       "      <th>split4_train_score</th>\n",
       "      <th>mean_train_score</th>\n",
       "      <th>std_train_score</th>\n",
       "    </tr>\n",
       "  </thead>\n",
       "  <tbody>\n",
       "    <tr>\n",
       "      <th>0</th>\n",
       "      <td>2.948507</td>\n",
       "      <td>0.017999</td>\n",
       "      <td>0.001230</td>\n",
       "      <td>0.000065</td>\n",
       "      <td>50000</td>\n",
       "      <td>3</td>\n",
       "      <td>{'logisticregression__C': 50000.0, 'smote__k_n...</td>\n",
       "      <td>0.958333</td>\n",
       "      <td>0.965517</td>\n",
       "      <td>0.979021</td>\n",
       "      <td>...</td>\n",
       "      <td>0.971932</td>\n",
       "      <td>0.009667</td>\n",
       "      <td>1</td>\n",
       "      <td>0.993007</td>\n",
       "      <td>0.987698</td>\n",
       "      <td>0.986063</td>\n",
       "      <td>0.991243</td>\n",
       "      <td>0.985965</td>\n",
       "      <td>0.988795</td>\n",
       "      <td>0.002843</td>\n",
       "    </tr>\n",
       "    <tr>\n",
       "      <th>1</th>\n",
       "      <td>2.942253</td>\n",
       "      <td>0.030465</td>\n",
       "      <td>0.001157</td>\n",
       "      <td>0.000103</td>\n",
       "      <td>50000</td>\n",
       "      <td>4</td>\n",
       "      <td>{'logisticregression__C': 50000.0, 'smote__k_n...</td>\n",
       "      <td>0.957746</td>\n",
       "      <td>0.972222</td>\n",
       "      <td>0.972222</td>\n",
       "      <td>...</td>\n",
       "      <td>0.968981</td>\n",
       "      <td>0.005666</td>\n",
       "      <td>6</td>\n",
       "      <td>0.993007</td>\n",
       "      <td>0.984127</td>\n",
       "      <td>0.987826</td>\n",
       "      <td>0.989474</td>\n",
       "      <td>0.986014</td>\n",
       "      <td>0.988090</td>\n",
       "      <td>0.003039</td>\n",
       "    </tr>\n",
       "    <tr>\n",
       "      <th>2</th>\n",
       "      <td>2.826185</td>\n",
       "      <td>0.245662</td>\n",
       "      <td>0.001134</td>\n",
       "      <td>0.000107</td>\n",
       "      <td>50000</td>\n",
       "      <td>5</td>\n",
       "      <td>{'logisticregression__C': 50000.0, 'smote__k_n...</td>\n",
       "      <td>0.958333</td>\n",
       "      <td>0.979310</td>\n",
       "      <td>0.958904</td>\n",
       "      <td>...</td>\n",
       "      <td>0.970725</td>\n",
       "      <td>0.010881</td>\n",
       "      <td>3</td>\n",
       "      <td>0.993007</td>\n",
       "      <td>0.987698</td>\n",
       "      <td>0.984293</td>\n",
       "      <td>0.991274</td>\n",
       "      <td>0.982456</td>\n",
       "      <td>0.987746</td>\n",
       "      <td>0.004001</td>\n",
       "    </tr>\n",
       "    <tr>\n",
       "      <th>3</th>\n",
       "      <td>2.911513</td>\n",
       "      <td>0.039451</td>\n",
       "      <td>0.001052</td>\n",
       "      <td>0.000027</td>\n",
       "      <td>5000</td>\n",
       "      <td>3</td>\n",
       "      <td>{'logisticregression__C': 5000.0, 'smote__k_ne...</td>\n",
       "      <td>0.965035</td>\n",
       "      <td>0.972222</td>\n",
       "      <td>0.958904</td>\n",
       "      <td>...</td>\n",
       "      <td>0.969197</td>\n",
       "      <td>0.006653</td>\n",
       "      <td>5</td>\n",
       "      <td>0.991243</td>\n",
       "      <td>0.989437</td>\n",
       "      <td>0.986063</td>\n",
       "      <td>0.991243</td>\n",
       "      <td>0.987741</td>\n",
       "      <td>0.989145</td>\n",
       "      <td>0.002018</td>\n",
       "    </tr>\n",
       "    <tr>\n",
       "      <th>4</th>\n",
       "      <td>2.874463</td>\n",
       "      <td>0.016269</td>\n",
       "      <td>0.001055</td>\n",
       "      <td>0.000081</td>\n",
       "      <td>5000</td>\n",
       "      <td>4</td>\n",
       "      <td>{'logisticregression__C': 5000.0, 'smote__k_ne...</td>\n",
       "      <td>0.958333</td>\n",
       "      <td>0.972222</td>\n",
       "      <td>0.958904</td>\n",
       "      <td>...</td>\n",
       "      <td>0.969292</td>\n",
       "      <td>0.010095</td>\n",
       "      <td>4</td>\n",
       "      <td>0.991243</td>\n",
       "      <td>0.992982</td>\n",
       "      <td>0.984348</td>\n",
       "      <td>0.991213</td>\n",
       "      <td>0.986014</td>\n",
       "      <td>0.989160</td>\n",
       "      <td>0.003353</td>\n",
       "    </tr>\n",
       "    <tr>\n",
       "      <th>5</th>\n",
       "      <td>2.879495</td>\n",
       "      <td>0.004609</td>\n",
       "      <td>0.001153</td>\n",
       "      <td>0.000059</td>\n",
       "      <td>5000</td>\n",
       "      <td>5</td>\n",
       "      <td>{'logisticregression__C': 5000.0, 'smote__k_ne...</td>\n",
       "      <td>0.957746</td>\n",
       "      <td>0.965517</td>\n",
       "      <td>0.958904</td>\n",
       "      <td>...</td>\n",
       "      <td>0.967818</td>\n",
       "      <td>0.009126</td>\n",
       "      <td>7</td>\n",
       "      <td>0.987698</td>\n",
       "      <td>0.987698</td>\n",
       "      <td>0.984293</td>\n",
       "      <td>0.991274</td>\n",
       "      <td>0.986014</td>\n",
       "      <td>0.987395</td>\n",
       "      <td>0.002313</td>\n",
       "    </tr>\n",
       "    <tr>\n",
       "      <th>6</th>\n",
       "      <td>2.839231</td>\n",
       "      <td>0.080975</td>\n",
       "      <td>0.001086</td>\n",
       "      <td>0.000065</td>\n",
       "      <td>500</td>\n",
       "      <td>3</td>\n",
       "      <td>{'logisticregression__C': 500.0, 'smote__k_nei...</td>\n",
       "      <td>0.958333</td>\n",
       "      <td>0.958333</td>\n",
       "      <td>0.965517</td>\n",
       "      <td>...</td>\n",
       "      <td>0.967798</td>\n",
       "      <td>0.009129</td>\n",
       "      <td>8</td>\n",
       "      <td>0.985915</td>\n",
       "      <td>0.985915</td>\n",
       "      <td>0.989547</td>\n",
       "      <td>0.989474</td>\n",
       "      <td>0.987741</td>\n",
       "      <td>0.987719</td>\n",
       "      <td>0.001608</td>\n",
       "    </tr>\n",
       "    <tr>\n",
       "      <th>7</th>\n",
       "      <td>2.801568</td>\n",
       "      <td>0.168920</td>\n",
       "      <td>0.001124</td>\n",
       "      <td>0.000060</td>\n",
       "      <td>500</td>\n",
       "      <td>4</td>\n",
       "      <td>{'logisticregression__C': 500.0, 'smote__k_nei...</td>\n",
       "      <td>0.951049</td>\n",
       "      <td>0.965517</td>\n",
       "      <td>0.972222</td>\n",
       "      <td>...</td>\n",
       "      <td>0.967721</td>\n",
       "      <td>0.009378</td>\n",
       "      <td>9</td>\n",
       "      <td>0.987698</td>\n",
       "      <td>0.989437</td>\n",
       "      <td>0.978947</td>\n",
       "      <td>0.991274</td>\n",
       "      <td>0.987741</td>\n",
       "      <td>0.987019</td>\n",
       "      <td>0.004245</td>\n",
       "    </tr>\n",
       "    <tr>\n",
       "      <th>8</th>\n",
       "      <td>2.898466</td>\n",
       "      <td>0.035155</td>\n",
       "      <td>0.001075</td>\n",
       "      <td>0.000035</td>\n",
       "      <td>500</td>\n",
       "      <td>5</td>\n",
       "      <td>{'logisticregression__C': 500.0, 'smote__k_nei...</td>\n",
       "      <td>0.965035</td>\n",
       "      <td>0.965517</td>\n",
       "      <td>0.979021</td>\n",
       "      <td>...</td>\n",
       "      <td>0.971898</td>\n",
       "      <td>0.006093</td>\n",
       "      <td>2</td>\n",
       "      <td>0.987698</td>\n",
       "      <td>0.985915</td>\n",
       "      <td>0.982456</td>\n",
       "      <td>0.989510</td>\n",
       "      <td>0.984293</td>\n",
       "      <td>0.985975</td>\n",
       "      <td>0.002477</td>\n",
       "    </tr>\n",
       "    <tr>\n",
       "      <th>9</th>\n",
       "      <td>1.489449</td>\n",
       "      <td>0.220143</td>\n",
       "      <td>0.001102</td>\n",
       "      <td>0.000028</td>\n",
       "      <td>1</td>\n",
       "      <td>3</td>\n",
       "      <td>{'logisticregression__C': 1, 'smote__k_neighbo...</td>\n",
       "      <td>0.953020</td>\n",
       "      <td>0.958904</td>\n",
       "      <td>0.985714</td>\n",
       "      <td>...</td>\n",
       "      <td>0.959539</td>\n",
       "      <td>0.014022</td>\n",
       "      <td>11</td>\n",
       "      <td>0.970018</td>\n",
       "      <td>0.968310</td>\n",
       "      <td>0.966841</td>\n",
       "      <td>0.977233</td>\n",
       "      <td>0.970123</td>\n",
       "      <td>0.970505</td>\n",
       "      <td>0.003575</td>\n",
       "    </tr>\n",
       "    <tr>\n",
       "      <th>10</th>\n",
       "      <td>1.348332</td>\n",
       "      <td>0.242698</td>\n",
       "      <td>0.001117</td>\n",
       "      <td>0.000080</td>\n",
       "      <td>1</td>\n",
       "      <td>4</td>\n",
       "      <td>{'logisticregression__C': 1, 'smote__k_neighbo...</td>\n",
       "      <td>0.966443</td>\n",
       "      <td>0.958904</td>\n",
       "      <td>0.985714</td>\n",
       "      <td>...</td>\n",
       "      <td>0.963639</td>\n",
       "      <td>0.013497</td>\n",
       "      <td>10</td>\n",
       "      <td>0.970018</td>\n",
       "      <td>0.970018</td>\n",
       "      <td>0.968531</td>\n",
       "      <td>0.975524</td>\n",
       "      <td>0.971930</td>\n",
       "      <td>0.971204</td>\n",
       "      <td>0.002415</td>\n",
       "    </tr>\n",
       "    <tr>\n",
       "      <th>11</th>\n",
       "      <td>1.213749</td>\n",
       "      <td>0.192810</td>\n",
       "      <td>0.000931</td>\n",
       "      <td>0.000143</td>\n",
       "      <td>1</td>\n",
       "      <td>5</td>\n",
       "      <td>{'logisticregression__C': 1, 'smote__k_neighbo...</td>\n",
       "      <td>0.946667</td>\n",
       "      <td>0.958904</td>\n",
       "      <td>0.985714</td>\n",
       "      <td>...</td>\n",
       "      <td>0.958255</td>\n",
       "      <td>0.014828</td>\n",
       "      <td>12</td>\n",
       "      <td>0.968198</td>\n",
       "      <td>0.975265</td>\n",
       "      <td>0.970228</td>\n",
       "      <td>0.977233</td>\n",
       "      <td>0.966725</td>\n",
       "      <td>0.971530</td>\n",
       "      <td>0.004059</td>\n",
       "    </tr>\n",
       "  </tbody>\n",
       "</table>\n",
       "<p>12 rows × 22 columns</p>\n",
       "</div>"
      ],
      "text/plain": [
       "    mean_fit_time  std_fit_time  mean_score_time  std_score_time  \\\n",
       "0        2.948507      0.017999         0.001230        0.000065   \n",
       "1        2.942253      0.030465         0.001157        0.000103   \n",
       "2        2.826185      0.245662         0.001134        0.000107   \n",
       "3        2.911513      0.039451         0.001052        0.000027   \n",
       "4        2.874463      0.016269         0.001055        0.000081   \n",
       "5        2.879495      0.004609         0.001153        0.000059   \n",
       "6        2.839231      0.080975         0.001086        0.000065   \n",
       "7        2.801568      0.168920         0.001124        0.000060   \n",
       "8        2.898466      0.035155         0.001075        0.000035   \n",
       "9        1.489449      0.220143         0.001102        0.000028   \n",
       "10       1.348332      0.242698         0.001117        0.000080   \n",
       "11       1.213749      0.192810         0.000931        0.000143   \n",
       "\n",
       "   param_logisticregression__C param_smote__k_neighbors  \\\n",
       "0                        50000                        3   \n",
       "1                        50000                        4   \n",
       "2                        50000                        5   \n",
       "3                         5000                        3   \n",
       "4                         5000                        4   \n",
       "5                         5000                        5   \n",
       "6                          500                        3   \n",
       "7                          500                        4   \n",
       "8                          500                        5   \n",
       "9                            1                        3   \n",
       "10                           1                        4   \n",
       "11                           1                        5   \n",
       "\n",
       "                                               params  split0_test_score  \\\n",
       "0   {'logisticregression__C': 50000.0, 'smote__k_n...           0.958333   \n",
       "1   {'logisticregression__C': 50000.0, 'smote__k_n...           0.957746   \n",
       "2   {'logisticregression__C': 50000.0, 'smote__k_n...           0.958333   \n",
       "3   {'logisticregression__C': 5000.0, 'smote__k_ne...           0.965035   \n",
       "4   {'logisticregression__C': 5000.0, 'smote__k_ne...           0.958333   \n",
       "5   {'logisticregression__C': 5000.0, 'smote__k_ne...           0.957746   \n",
       "6   {'logisticregression__C': 500.0, 'smote__k_nei...           0.958333   \n",
       "7   {'logisticregression__C': 500.0, 'smote__k_nei...           0.951049   \n",
       "8   {'logisticregression__C': 500.0, 'smote__k_nei...           0.965035   \n",
       "9   {'logisticregression__C': 1, 'smote__k_neighbo...           0.953020   \n",
       "10  {'logisticregression__C': 1, 'smote__k_neighbo...           0.966443   \n",
       "11  {'logisticregression__C': 1, 'smote__k_neighbo...           0.946667   \n",
       "\n",
       "    split1_test_score  split2_test_score  ...  mean_test_score  \\\n",
       "0            0.965517           0.979021  ...         0.971932   \n",
       "1            0.972222           0.972222  ...         0.968981   \n",
       "2            0.979310           0.958904  ...         0.970725   \n",
       "3            0.972222           0.958904  ...         0.969197   \n",
       "4            0.972222           0.958904  ...         0.969292   \n",
       "5            0.965517           0.958904  ...         0.967818   \n",
       "6            0.958333           0.965517  ...         0.967798   \n",
       "7            0.965517           0.972222  ...         0.967721   \n",
       "8            0.965517           0.979021  ...         0.971898   \n",
       "9            0.958904           0.985714  ...         0.959539   \n",
       "10           0.958904           0.985714  ...         0.963639   \n",
       "11           0.958904           0.985714  ...         0.958255   \n",
       "\n",
       "    std_test_score  rank_test_score  split0_train_score  split1_train_score  \\\n",
       "0         0.009667                1            0.993007            0.987698   \n",
       "1         0.005666                6            0.993007            0.984127   \n",
       "2         0.010881                3            0.993007            0.987698   \n",
       "3         0.006653                5            0.991243            0.989437   \n",
       "4         0.010095                4            0.991243            0.992982   \n",
       "5         0.009126                7            0.987698            0.987698   \n",
       "6         0.009129                8            0.985915            0.985915   \n",
       "7         0.009378                9            0.987698            0.989437   \n",
       "8         0.006093                2            0.987698            0.985915   \n",
       "9         0.014022               11            0.970018            0.968310   \n",
       "10        0.013497               10            0.970018            0.970018   \n",
       "11        0.014828               12            0.968198            0.975265   \n",
       "\n",
       "    split2_train_score  split3_train_score  split4_train_score  \\\n",
       "0             0.986063            0.991243            0.985965   \n",
       "1             0.987826            0.989474            0.986014   \n",
       "2             0.984293            0.991274            0.982456   \n",
       "3             0.986063            0.991243            0.987741   \n",
       "4             0.984348            0.991213            0.986014   \n",
       "5             0.984293            0.991274            0.986014   \n",
       "6             0.989547            0.989474            0.987741   \n",
       "7             0.978947            0.991274            0.987741   \n",
       "8             0.982456            0.989510            0.984293   \n",
       "9             0.966841            0.977233            0.970123   \n",
       "10            0.968531            0.975524            0.971930   \n",
       "11            0.970228            0.977233            0.966725   \n",
       "\n",
       "    mean_train_score  std_train_score  \n",
       "0           0.988795         0.002843  \n",
       "1           0.988090         0.003039  \n",
       "2           0.987746         0.004001  \n",
       "3           0.989145         0.002018  \n",
       "4           0.989160         0.003353  \n",
       "5           0.987395         0.002313  \n",
       "6           0.987719         0.001608  \n",
       "7           0.987019         0.004245  \n",
       "8           0.985975         0.002477  \n",
       "9           0.970505         0.003575  \n",
       "10          0.971204         0.002415  \n",
       "11          0.971530         0.004059  \n",
       "\n",
       "[12 rows x 22 columns]"
      ]
     },
     "execution_count": 104,
     "metadata": {},
     "output_type": "execute_result"
    }
   ],
   "source": [
    "pd.DataFrame(gscv.cv_results_)"
   ]
  },
  {
   "cell_type": "code",
   "execution_count": null,
   "metadata": {},
   "outputs": [],
   "source": []
  }
 ],
 "metadata": {
  "kernelspec": {
   "display_name": "Python 3",
   "language": "python",
   "name": "python3"
  },
  "language_info": {
   "codemirror_mode": {
    "name": "ipython",
    "version": 3
   },
   "file_extension": ".py",
   "mimetype": "text/x-python",
   "name": "python",
   "nbconvert_exporter": "python",
   "pygments_lexer": "ipython3",
   "version": "3.7.0"
  }
 },
 "nbformat": 4,
 "nbformat_minor": 2
}
